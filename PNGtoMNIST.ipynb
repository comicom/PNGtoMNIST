{
  "nbformat": 4,
  "nbformat_minor": 0,
  "metadata": {
    "colab": {
      "name": "PNGtoMNIST.ipynb",
      "provenance": [],
      "collapsed_sections": []
    },
    "kernelspec": {
      "name": "python3",
      "display_name": "Python 3"
    }
  },
  "cells": [
    {
      "cell_type": "code",
      "metadata": {
        "id": "eZvUFAdznCHs",
        "colab_type": "code",
        "colab": {
          "base_uri": "https://localhost:8080/",
          "height": 35
        },
        "outputId": "26ba2d4b-8adb-4075-aefa-64aaf0abc2d6"
      },
      "source": [
        "# Here we import everything we need for the project\n",
        "\n",
        "%matplotlib inline\n",
        "from google.colab import files\n",
        "import os\n",
        "\n",
        "# TensorFlow and tf.keras\n",
        "import tensorflow as tf\n",
        "from tensorflow import keras\n",
        "\n",
        "# Helper libraries\n",
        "import numpy as np\n",
        "import matplotlib.pyplot as plt\n",
        "import cv2\n",
        "import pandas as pd\n",
        "from PIL import Image\n",
        "from array import *\n",
        "from random import shuffle\n",
        "\n",
        "print(tf.__version__)"
      ],
      "execution_count": 2,
      "outputs": [
        {
          "output_type": "stream",
          "text": [
            "1.15.0-rc3\n"
          ],
          "name": "stdout"
        }
      ]
    },
    {
      "cell_type": "code",
      "metadata": {
        "id": "58WKayCCmcrg",
        "colab_type": "code",
        "colab": {
          "base_uri": "https://localhost:8080/",
          "height": 35
        },
        "outputId": "1f9a6a61-1d5e-4369-e48c-f8264e0ac273"
      },
      "source": [
        "# We need to get all the paths for the images to later load them\n",
        "imagepaths = []\n",
        "\n",
        "# Go through all the files and subdirectories inside a folder and save path to images inside list\n",
        "for root, dirs, files in os.walk(\".\", topdown=False): \n",
        "  for name in files:\n",
        "    path = os.path.join(root, name)\n",
        "    if path.endswith(\"png\"): # We want only the images\n",
        "      imagepaths.append(path)\n",
        "\n",
        "print(len(imagepaths)) # If > 0, then a PNG image was loaded"
      ],
      "execution_count": 3,
      "outputs": [
        {
          "output_type": "stream",
          "text": [
            "3\n"
          ],
          "name": "stdout"
        }
      ]
    },
    {
      "cell_type": "code",
      "metadata": {
        "id": "6piPMda4m-LP",
        "colab_type": "code",
        "colab": {}
      },
      "source": [
        "# This function is used more for debugging and showing results later. It plots the image into the notebook\n",
        "\n",
        "def plot_image(path):\n",
        "  img = cv2.imread(path) # Reads the image into a numpy.array\n",
        "  img_cvt = cv2.cvtColor(img, cv2.COLOR_BGR2GRAY) # Converts into the corret colorspace (RGB)\n",
        "  print(img_cvt.shape) # Prints the shape of the image just to check\n",
        "  plt.grid(False) # Without grid so we can see better\n",
        "  plt.imshow(img_cvt) # Shows the image\n",
        "  plt.xlabel(\"Width\")\n",
        "  plt.ylabel(\"Height\")\n",
        "  plt.title(\"Image \" + path)"
      ],
      "execution_count": 0,
      "outputs": []
    },
    {
      "cell_type": "code",
      "metadata": {
        "id": "3ILNOQGEnEfZ",
        "colab_type": "code",
        "colab": {
          "base_uri": "https://localhost:8080/",
          "height": 313
        },
        "outputId": "44f6c545-8cc3-4d53-8db5-ad9e071ca188"
      },
      "source": [
        "plot_image(imagepaths[2]) #We plot the first image from our imagepaths array"
      ],
      "execution_count": 5,
      "outputs": [
        {
          "output_type": "stream",
          "text": [
            "(28, 28)\n"
          ],
          "name": "stdout"
        },
        {
          "output_type": "display_data",
          "data": {
            "image/png": "[encoded data removed]",
            "text/plain": [
              "<Figure size 432x288 with 1 Axes>"
            ]
          },
          "metadata": {
            "tags": []
          }
        }
      ]
    },
    {
      "cell_type": "code",
      "metadata": {
        "id": "HL1GttWKnroM",
        "colab_type": "code",
        "colab": {
          "base_uri": "https://localhost:8080/",
          "height": 233
        },
        "outputId": "64decd07-4c7d-47f8-929a-79d172e62524"
      },
      "source": [
        "Names = [['/content','train'], ['/content','test']]\n",
        "\n",
        "for filename in imagepaths:\n",
        "  data_image = array('B')\n",
        "  data_label = array('B')\n",
        "  \n",
        "  label = int(filename.split('/')[1].split('.')[0])\n",
        "  \n",
        "  Im = Image.open(filename)\n",
        "\n",
        "  pixel = Im.load()\n",
        "\n",
        "  width, height = Im.size\n",
        "\n",
        "  for x in range(0,width):\n",
        "    for y in range(0,height):\n",
        "      data_image = np.concatenate((data_image,pixel[y,x]))\n",
        "\n",
        "  print(data_image)\n",
        "  data_label.append(label)\n",
        "  print(data_label)\n",
        "  \n",
        "  hexval = \"{0:#0{1}x}\".format(len(imagepaths),6)\n",
        "  header = []\n",
        "  header.extend([0,0,8,1,0,0])\n",
        "  header.append(int('0x'+hexval[2:][:2],16))\n",
        "  header.append(int('0x'+hexval[2:][2:],16))\n",
        "\t\n",
        "  data_label = np.concatenate((header, data_label))\n",
        "\n",
        "\t# additional header for images array\n",
        "\t\n",
        "  if max([width,height]) <= 256:\n",
        "    header.extend([0,0,0,width,0,0,0,height])\n",
        "  else:\n",
        "    raise ValueError('Image exceeds maximum size: 256x256 pixels');\n",
        "\n",
        "  header[3] = 3 # Changing MSB for image data (0x00000803)\n",
        "\t\n",
        "  data_image = np.concatenate((header, data_image))\n",
        "\n",
        "  print(data_image)\n",
        "  print(data_label)\n",
        "  output_file = open(name[1]+'-images-idx3-ubyte', 'wb')\n",
        "  data_image.tofile(output_file)\n",
        "  output_file.close()\n",
        "\n",
        "  output_file = open(name[1]+'-labels-idx1-ubyte', 'wb')\n",
        "  data_label.tofile(output_file)\n",
        "  output_file.close()\n",
        "\n",
        "# gzip resulting files\n",
        "\n",
        "for name in Names:\n",
        "\tos.system('gzip '+name[1]+'-images-idx3-ubyte')\n",
        "\tos.system('gzip '+name[1]+'-labels-idx1-ubyte')\n"
      ],
      "execution_count": 37,
      "outputs": [
        {
          "output_type": "stream",
          "text": [
            "[255 255 255 ... 255 255 255]\n",
            "array('B', [8])\n",
            "[  0   0   8 ... 255 255 255]\n",
            "[0 0 8 1 0 0 0 3 8]\n",
            "[255 255 255 ... 255 255 255]\n",
            "array('B', [6])\n",
            "[  0   0   8 ... 255 255 255]\n",
            "[0 0 8 1 0 0 0 3 6]\n",
            "[255 255 255 ... 255 255 255]\n",
            "array('B', [3])\n",
            "[  0   0   8 ... 255 255 255]\n",
            "[0 0 8 1 0 0 0 3 3]\n"
          ],
          "name": "stdout"
        }
      ]
    },
    {
      "cell_type": "code",
      "metadata": {
        "id": "ezCFP-IvnWfv",
        "colab_type": "code",
        "colab": {}
      },
      "source": [
        ""
      ],
      "execution_count": 0,
      "outputs": []
    }
  ]
}